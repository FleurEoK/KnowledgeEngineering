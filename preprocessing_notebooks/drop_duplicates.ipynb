{
 "cells": [
  {
   "attachments": {},
   "cell_type": "markdown",
   "metadata": {},
   "source": [
    "# Check the data to see why so little relations are created"
   ]
  },
  {
   "cell_type": "code",
   "execution_count": 50,
   "metadata": {},
   "outputs": [],
   "source": [
    "import pandas as pd"
   ]
  },
  {
   "cell_type": "code",
   "execution_count": 51,
   "metadata": {},
   "outputs": [],
   "source": [
    "# read in csv files\n",
    "df_train = pd.read_csv('../data/filtered_old/train_connections_two_way.csv')\n",
    "df_flight = pd.read_csv('../data/filtered_old/flight_routes_two_way.csv')"
   ]
  },
  {
   "cell_type": "code",
   "execution_count": 52,
   "metadata": {},
   "outputs": [
    {
     "data": {
      "text/plain": [
       "Index(['departure_id', 'departure_city', 'departure_name',\n",
       "       'departure_latitude', 'departure_longitude', 'destination_id',\n",
       "       'destination_city', 'destination_name', 'destination_latitude',\n",
       "       'destination_longitude', 'distance'],\n",
       "      dtype='object')"
      ]
     },
     "execution_count": 52,
     "metadata": {},
     "output_type": "execute_result"
    }
   ],
   "source": [
    "df_train.columns"
   ]
  },
  {
   "cell_type": "code",
   "execution_count": 53,
   "metadata": {},
   "outputs": [
    {
     "data": {
      "text/plain": [
       "Index(['airline', 'airline ID', ' source airport', ' source airport id',\n",
       "       'destination airport', ' destination airport id', ' stops',\n",
       "       ' equipment', 'source_longitude', 'source_latitude', 'source_city',\n",
       "       'source_country', 'source_country_code', 'dest_longitude',\n",
       "       'dest_latitude', 'dest_city', 'dest_country', 'dest_country_code',\n",
       "       'distance'],\n",
       "      dtype='object')"
      ]
     },
     "execution_count": 53,
     "metadata": {},
     "output_type": "execute_result"
    }
   ],
   "source": [
    "df_flight.columns"
   ]
  },
  {
   "cell_type": "code",
   "execution_count": 54,
   "metadata": {},
   "outputs": [
    {
     "data": {
      "text/plain": [
       "5585"
      ]
     },
     "execution_count": 54,
     "metadata": {},
     "output_type": "execute_result"
    }
   ],
   "source": [
    "# check if there are duplicates in rows with combinations of destination_city and departure_city in flight\n",
    "duplicate_flight_sum = df_flight.duplicated(subset=['source_city', 'dest_city']).sum()\n",
    "nr_of_flight_relations = len(df_flight)-duplicate_flight_sum\n",
    "nr_of_flight_relations"
   ]
  },
  {
   "cell_type": "code",
   "execution_count": 55,
   "metadata": {},
   "outputs": [
    {
     "data": {
      "text/plain": [
       "1278"
      ]
     },
     "execution_count": 55,
     "metadata": {},
     "output_type": "execute_result"
    }
   ],
   "source": [
    "# check if there are duplicates in rows with combinations of destination_city and departure_city in train\n",
    "duplicate_train_sum = df_train.duplicated(subset=['departure_city', 'destination_city']).sum()\n",
    "nr_of_train_relations = len(df_train)-duplicate_train_sum\n",
    "nr_of_train_relations"
   ]
  },
  {
   "cell_type": "code",
   "execution_count": 56,
   "metadata": {},
   "outputs": [],
   "source": [
    "# Delete all duplicates in flight and train\n",
    "df_flight = df_flight.drop_duplicates(subset=['source_city', 'dest_city'])\n",
    "df_train = df_train.drop_duplicates(subset=['departure_city', 'destination_city'])"
   ]
  },
  {
   "cell_type": "code",
   "execution_count": 57,
   "metadata": {},
   "outputs": [],
   "source": [
    "combinations_train = []\n",
    "for index, row in df_train.iterrows():\n",
    "    if (row['departure_city'], row['destination_city']) not in combinations_train and (row['destination_city'], row['departure_city']) not in combinations_train:\n",
    "        combinations_train.append((row['departure_city'], row['destination_city']))\n",
    "    else:\n",
    "        df_train.drop(index, inplace=True)\n",
    "\n",
    "combinations_flight = []\n",
    "for index, row in df_flight.iterrows():\n",
    "    if (row['source_city'], row['dest_city']) not in combinations_flight and (row['dest_city'], row['source_city']) not in combinations_flight:\n",
    "        combinations_flight.append((row['source_city'], row['dest_city']))\n",
    "    else:\n",
    "        df_flight.drop(index, inplace=True)\n"
   ]
  },
  {
   "cell_type": "code",
   "execution_count": 58,
   "metadata": {},
   "outputs": [
    {
     "name": "stdout",
     "output_type": "stream",
     "text": [
      "Number of flight relations: 2835\n",
      "Number of train relations: 946\n"
     ]
    }
   ],
   "source": [
    "print(f'Number of flight relations: {len(df_flight)}')\n",
    "print(f'Number of train relations: {len(df_train)}')"
   ]
  },
  {
   "cell_type": "code",
   "execution_count": 59,
   "metadata": {},
   "outputs": [],
   "source": [
    "df_flight.to_csv('../data/flight_connections_one_way.csv', index=False)\n",
    "df_train.to_csv('../data/train_connections_one_way.csv', index=False)"
   ]
  }
 ],
 "metadata": {
  "kernelspec": {
   "display_name": ".venv",
   "language": "python",
   "name": "python3"
  },
  "language_info": {
   "codemirror_mode": {
    "name": "ipython",
    "version": 3
   },
   "file_extension": ".py",
   "mimetype": "text/x-python",
   "name": "python",
   "nbconvert_exporter": "python",
   "pygments_lexer": "ipython3",
   "version": "3.9.13"
  },
  "orig_nbformat": 4
 },
 "nbformat": 4,
 "nbformat_minor": 2
}
