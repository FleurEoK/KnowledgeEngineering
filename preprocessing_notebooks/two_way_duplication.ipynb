{
 "cells": [
  {
   "cell_type": "code",
   "execution_count": 12,
   "metadata": {},
   "outputs": [],
   "source": [
    "import pandas as pd\n",
    "# Read in the data\n",
    "df_trains = pd.read_csv('../data/Train_connections_with_distance.csv')\n",
    "df_flights = pd.read_csv('../data/flight_connections_with_distance.csv')"
   ]
  },
  {
   "cell_type": "code",
   "execution_count": 13,
   "metadata": {},
   "outputs": [
    {
     "data": {
      "text/plain": [
       "Index(['departure_id', 'departure_city', 'departure_name',\n",
       "       'departure_latitude', 'departure_longitude', 'destination_id',\n",
       "       'destination_city', 'destination_name', 'destination_latitude',\n",
       "       'destination_longitude', 'distance', 'new_dep_latitude',\n",
       "       'new_dep_longitude', 'new_dest_latitude', 'new_dest_longitude',\n",
       "       'new_distance'],\n",
       "      dtype='object')"
      ]
     },
     "execution_count": 13,
     "metadata": {},
     "output_type": "execute_result"
    }
   ],
   "source": [
    "df_trains.columns"
   ]
  },
  {
   "cell_type": "code",
   "execution_count": 14,
   "metadata": {},
   "outputs": [
    {
     "data": {
      "text/plain": [
       "Index(['airline', 'airline ID', ' source airport', ' source airport id',\n",
       "       'destination airport', ' destination airport id', ' stops',\n",
       "       ' equipment', 'source_longitude', 'source_latitude', 'source_city',\n",
       "       'source_country', 'source_country_code', 'dest_longitude',\n",
       "       'dest_latitude', 'dest_city', 'dest_country', 'dest_country_code',\n",
       "       'distance', 'new_source_latitude', 'new_source_longitude',\n",
       "       'new_dest_latitude', 'new_dest_longitude', 'new_distance'],\n",
       "      dtype='object')"
      ]
     },
     "execution_count": 14,
     "metadata": {},
     "output_type": "execute_result"
    }
   ],
   "source": [
    "df_flights.columns"
   ]
  },
  {
   "cell_type": "code",
   "execution_count": 15,
   "metadata": {},
   "outputs": [
    {
     "name": "stdout",
     "output_type": "stream",
     "text": [
      "length of df_trains: 946\n",
      "length of df_flights: 2835\n"
     ]
    }
   ],
   "source": [
    "print(f'length of df_trains: {len(df_trains)}')\n",
    "print(f'length of df_flights: {len(df_flights)}')"
   ]
  },
  {
   "cell_type": "code",
   "execution_count": 16,
   "metadata": {},
   "outputs": [],
   "source": [
    "# duplicate every row in df_trains but swap the values in destination_city and departure_city\n",
    "df_trains_two_way = df_trains.copy()\n",
    "for index, row in df_trains.iterrows():\n",
    "    df_trains_two_way = df_trains_two_way.append({'departure_city': row['destination_city'], 'destination_city': row['departure_city'], 'new_distance': row['new_distance']}, ignore_index=True)"
   ]
  },
  {
   "cell_type": "code",
   "execution_count": 17,
   "metadata": {},
   "outputs": [
    {
     "data": {
      "text/plain": [
       "1892"
      ]
     },
     "execution_count": 17,
     "metadata": {},
     "output_type": "execute_result"
    }
   ],
   "source": [
    "len(df_trains_two_way)"
   ]
  },
  {
   "cell_type": "code",
   "execution_count": 18,
   "metadata": {},
   "outputs": [],
   "source": [
    "df_flights_two_way = df_flights.copy()\n",
    "for index, row in df_flights.iterrows():\n",
    "    df_flights_two_way = df_flights_two_way.append({'source_city': row['dest_city'], 'dest_city': row['source_city'], 'new_distance': row['new_distance']}, ignore_index=True)"
   ]
  },
  {
   "cell_type": "code",
   "execution_count": 19,
   "metadata": {},
   "outputs": [
    {
     "data": {
      "text/plain": [
       "5670"
      ]
     },
     "execution_count": 19,
     "metadata": {},
     "output_type": "execute_result"
    }
   ],
   "source": [
    "len(df_flights_two_way)"
   ]
  },
  {
   "cell_type": "code",
   "execution_count": 20,
   "metadata": {},
   "outputs": [],
   "source": [
    "# save the data\n",
    "df_trains_two_way.to_csv('../data/Train_connections_with_distance_two_way.csv', index=False)\n",
    "df_flights_two_way.to_csv('../data/flight_connections_with_distance_two_way.csv', index=False)"
   ]
  }
 ],
 "metadata": {
  "kernelspec": {
   "display_name": ".venv",
   "language": "python",
   "name": "python3"
  },
  "language_info": {
   "codemirror_mode": {
    "name": "ipython",
    "version": 3
   },
   "file_extension": ".py",
   "mimetype": "text/x-python",
   "name": "python",
   "nbconvert_exporter": "python",
   "pygments_lexer": "ipython3",
   "version": "3.9.13"
  },
  "orig_nbformat": 4
 },
 "nbformat": 4,
 "nbformat_minor": 2
}
