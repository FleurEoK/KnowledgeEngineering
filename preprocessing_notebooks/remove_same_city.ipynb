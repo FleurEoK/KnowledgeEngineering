{
 "cells": [
  {
   "attachments": {},
   "cell_type": "markdown",
   "metadata": {},
   "source": [
    "# Remove flights and trains going from the same city to the same city"
   ]
  },
  {
   "cell_type": "code",
   "execution_count": 84,
   "metadata": {},
   "outputs": [],
   "source": [
    "import pandas as pd"
   ]
  },
  {
   "cell_type": "code",
   "execution_count": 85,
   "metadata": {},
   "outputs": [],
   "source": [
    "df_flights = pd.read_csv('../data/flight_connections_with_distance_two_way.csv')\n",
    "df_trains = pd.read_csv('../data/Train_connections_with_distance_two_way.csv')"
   ]
  },
  {
   "cell_type": "code",
   "execution_count": 86,
   "metadata": {},
   "outputs": [
    {
     "data": {
      "text/plain": [
       "Index(['airline', 'airline ID', ' source airport', ' source airport id',\n",
       "       'destination airport', ' destination airport id', ' stops',\n",
       "       ' equipment', 'source_longitude', 'source_latitude', 'source_city',\n",
       "       'source_country', 'source_country_code', 'dest_longitude',\n",
       "       'dest_latitude', 'dest_city', 'dest_country', 'dest_country_code',\n",
       "       'distance', 'new_source_latitude', 'new_source_longitude',\n",
       "       'new_dest_latitude', 'new_dest_longitude', 'new_distance'],\n",
       "      dtype='object')"
      ]
     },
     "execution_count": 86,
     "metadata": {},
     "output_type": "execute_result"
    }
   ],
   "source": [
    "df_flights.columns"
   ]
  },
  {
   "cell_type": "code",
   "execution_count": 87,
   "metadata": {},
   "outputs": [
    {
     "data": {
      "text/plain": [
       "Index(['departure_id', 'departure_city', 'departure_name',\n",
       "       'departure_latitude', 'departure_longitude', 'destination_id',\n",
       "       'destination_city', 'destination_name', 'destination_latitude',\n",
       "       'destination_longitude', 'distance', 'new_dep_latitude',\n",
       "       'new_dep_longitude', 'new_dest_latitude', 'new_dest_longitude',\n",
       "       'new_distance'],\n",
       "      dtype='object')"
      ]
     },
     "execution_count": 87,
     "metadata": {},
     "output_type": "execute_result"
    }
   ],
   "source": [
    "df_trains.columns"
   ]
  },
  {
   "cell_type": "code",
   "execution_count": 88,
   "metadata": {},
   "outputs": [
    {
     "name": "stdout",
     "output_type": "stream",
     "text": [
      "length of flights: 5670\n",
      "length of trains: 1892\n"
     ]
    }
   ],
   "source": [
    "print(f'length of flights: {len(df_flights)}')\n",
    "print(f'length of trains: {len(df_trains)}')"
   ]
  },
  {
   "cell_type": "code",
   "execution_count": 89,
   "metadata": {},
   "outputs": [],
   "source": [
    "# if a train goes from city A to city A, it is not useful. Remove them. \n",
    "for index, row in df_trains.iterrows():\n",
    "    if row['destination_city'] == row['departure_city']:\n",
    "        df_trains.drop(index, inplace=True)\n",
    "\n",
    "# if a flight goes from city A to city A, it is not useful. Remove them.\n",
    "for index, row in df_flights.iterrows():\n",
    "    if row['source_city'] == row['dest_city']:\n",
    "        df_flights.drop(index, inplace=True)"
   ]
  },
  {
   "cell_type": "code",
   "execution_count": 90,
   "metadata": {},
   "outputs": [
    {
     "name": "stdout",
     "output_type": "stream",
     "text": [
      "length of flights: 5670\n",
      "length of trains: 1826\n"
     ]
    }
   ],
   "source": [
    "print(f'length of flights: {len(df_flights)}')\n",
    "print(f'length of trains: {len(df_trains)}')"
   ]
  },
  {
   "attachments": {},
   "cell_type": "markdown",
   "metadata": {},
   "source": [
    "# Delete NAN routes"
   ]
  },
  {
   "cell_type": "code",
   "execution_count": 91,
   "metadata": {},
   "outputs": [
    {
     "name": "stdout",
     "output_type": "stream",
     "text": [
      "2403    NaN\n",
      "2422    NaN\n",
      "3840    NaN\n",
      "5238    NaN\n",
      "5257    NaN\n",
      "Name: source_city, dtype: object\n",
      "length of flights: 5670\n",
      "length of flights: 5664\n"
     ]
    }
   ],
   "source": [
    "# check if there are any duplicates in the dataframes only looking at the columns source_city, dest_city\n",
    "df_flights[['source_city', 'dest_city']].duplicated().sum()\n",
    "\n",
    "# print them only showing the columns source_city, dest_city\n",
    "print(df_flights[df_flights[['source_city', 'dest_city']].duplicated()]['source_city'])\n",
    "\n",
    "print(f'length of flights: {len(df_flights)}')\n",
    "\n",
    "# drop the duplicates\n",
    "df_flights.drop_duplicates(subset=['source_city', 'dest_city'], inplace=True)\n",
    "df_flights.dropna(how='all', inplace=True)\n",
    "\n",
    "\n",
    "print(f'length of flights: {len(df_flights)}')\n"
   ]
  },
  {
   "cell_type": "code",
   "execution_count": 92,
   "metadata": {},
   "outputs": [
    {
     "name": "stdout",
     "output_type": "stream",
     "text": [
      "133     NaN\n",
      "185     NaN\n",
      "186     NaN\n",
      "227     NaN\n",
      "228     NaN\n",
      "233     NaN\n",
      "549     NaN\n",
      "584     NaN\n",
      "585     NaN\n",
      "586     NaN\n",
      "628     NaN\n",
      "629     NaN\n",
      "1030    NaN\n",
      "1079    NaN\n",
      "1131    NaN\n",
      "1132    NaN\n",
      "1173    NaN\n",
      "1174    NaN\n",
      "1179    NaN\n",
      "1495    NaN\n",
      "1530    NaN\n",
      "1531    NaN\n",
      "1532    NaN\n",
      "1574    NaN\n",
      "1575    NaN\n",
      "Name: departure_city, dtype: object\n",
      "length of trains: 1826\n",
      "length of trains: 1800\n"
     ]
    }
   ],
   "source": [
    "# check the same for trains\n",
    "df_trains[['departure_city', 'destination_city']].duplicated().sum()\n",
    "\n",
    "print(df_trains[df_trains[['departure_city', 'destination_city']].duplicated()]['departure_city'])\n",
    "\n",
    "print(f'length of trains: {len(df_trains)}')\n",
    "\n",
    "df_trains.drop_duplicates(subset=['departure_city', 'destination_city'], inplace=True)\n",
    "\n",
    "# drop if all values of a row are NaN\n",
    "df_trains.dropna(how='all', inplace=True)\n",
    "\n",
    "print(f'length of trains: {len(df_trains)}')"
   ]
  },
  {
   "cell_type": "code",
   "execution_count": 93,
   "metadata": {},
   "outputs": [],
   "source": [
    "# save them\n",
    "df_flights.to_csv('../data/flight_connections_filtered.csv', index=False)\n",
    "df_trains.to_csv('../data/Train_connections_filtered.csv', index=False)"
   ]
  }
 ],
 "metadata": {
  "kernelspec": {
   "display_name": ".venv",
   "language": "python",
   "name": "python3"
  },
  "language_info": {
   "codemirror_mode": {
    "name": "ipython",
    "version": 3
   },
   "file_extension": ".py",
   "mimetype": "text/x-python",
   "name": "python",
   "nbconvert_exporter": "python",
   "pygments_lexer": "ipython3",
   "version": "3.9.13"
  },
  "orig_nbformat": 4
 },
 "nbformat": 4,
 "nbformat_minor": 2
}
