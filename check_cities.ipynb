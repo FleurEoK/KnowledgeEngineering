{
 "cells": [
  {
   "attachments": {},
   "cell_type": "markdown",
   "metadata": {},
   "source": [
    "# check if cities that are in trains and flights are also in the cities dataset"
   ]
  },
  {
   "cell_type": "code",
   "execution_count": 24,
   "metadata": {},
   "outputs": [],
   "source": [
    "import pandas as pd"
   ]
  },
  {
   "cell_type": "code",
   "execution_count": 25,
   "metadata": {},
   "outputs": [],
   "source": [
    "df_flights = pd.read_csv('../data/flight_connections_filtered.csv')\n",
    "df_trains = pd.read_csv('../data/Train_connections_filtered.csv')\n",
    "df_cities = pd.read_csv('../data/cities_updated.csv')"
   ]
  },
  {
   "cell_type": "code",
   "execution_count": 26,
   "metadata": {},
   "outputs": [
    {
     "data": {
      "text/plain": [
       "Index(['airline', 'airline ID', ' source airport', ' source airport id',\n",
       "       'destination airport', ' destination airport id', ' stops',\n",
       "       ' equipment', 'source_longitude', 'source_latitude', 'source_city',\n",
       "       'source_country', 'source_country_code', 'dest_longitude',\n",
       "       'dest_latitude', 'dest_city', 'dest_country', 'dest_country_code',\n",
       "       'distance', 'new_source_latitude', 'new_source_longitude',\n",
       "       'new_dest_latitude', 'new_dest_longitude', 'new_distance'],\n",
       "      dtype='object')"
      ]
     },
     "execution_count": 26,
     "metadata": {},
     "output_type": "execute_result"
    }
   ],
   "source": [
    "df_flights.columns"
   ]
  },
  {
   "cell_type": "code",
   "execution_count": 27,
   "metadata": {},
   "outputs": [
    {
     "data": {
      "text/plain": [
       "Index(['departure_id', 'departure_city', 'departure_name',\n",
       "       'departure_latitude', 'departure_longitude', 'destination_id',\n",
       "       'destination_city', 'destination_name', 'destination_latitude',\n",
       "       'destination_longitude', 'distance', 'new_dep_latitude',\n",
       "       'new_dep_longitude', 'new_dest_latitude', 'new_dest_longitude',\n",
       "       'new_distance'],\n",
       "      dtype='object')"
      ]
     },
     "execution_count": 27,
     "metadata": {},
     "output_type": "execute_result"
    }
   ],
   "source": [
    "df_trains.columns"
   ]
  },
  {
   "cell_type": "code",
   "execution_count": 32,
   "metadata": {},
   "outputs": [],
   "source": [
    "# check if all cities in df_flights are in df_cities\n",
    "for city in df_flights['source_city'].unique():\n",
    "    if city not in df_cities['city'].unique():\n",
    "        print(city)\n",
    "\n",
    "for city in df_flights['dest_city'].unique():\n",
    "    if city not in df_cities['city'].unique():\n",
    "        print(city)"
   ]
  },
  {
   "cell_type": "code",
   "execution_count": 29,
   "metadata": {},
   "outputs": [
    {
     "name": "stdout",
     "output_type": "stream",
     "text": [
      "0\n",
      "set()\n"
     ]
    }
   ],
   "source": [
    "# check if all cities in df_trains are in df_cities\n",
    "count = 0\n",
    "cities = []\n",
    "for city in df_trains['depar'].unique():\n",
    "    if city not in df_cities['city'].unique():\n",
    "        cities.append(city)\n",
    "\n",
    "print(len(cities))\n",
    "# print unique cities\n",
    "print(set(cities))"
   ]
  },
  {
   "cell_type": "code",
   "execution_count": 30,
   "metadata": {},
   "outputs": [],
   "source": [
    "# remove all accents on letters from cities\n",
    "from unidecode import unidecode\n",
    "\n",
    "def remove_accents(text):\n",
    "    # Normalize the text to Unicode NFKD form\n",
    "    normalized_text = unidecode(text)\n",
    "    return normalized_text\n",
    "\n",
    "for index, row in df_cities.iterrows():\n",
    "    df_cities.loc[index, 'city'] = remove_accents(row['city'])"
   ]
  },
  {
   "cell_type": "code",
   "execution_count": 31,
   "metadata": {},
   "outputs": [],
   "source": [
    "# save df_cities to csv\n",
    "df_cities.to_csv('../data/cities_updated.csv', index=False)"
   ]
  }
 ],
 "metadata": {
  "kernelspec": {
   "display_name": ".venv",
   "language": "python",
   "name": "python3"
  },
  "language_info": {
   "codemirror_mode": {
    "name": "ipython",
    "version": 3
   },
   "file_extension": ".py",
   "mimetype": "text/x-python",
   "name": "python",
   "nbconvert_exporter": "python",
   "pygments_lexer": "ipython3",
   "version": "3.9.13"
  },
  "orig_nbformat": 4
 },
 "nbformat": 4,
 "nbformat_minor": 2
}
